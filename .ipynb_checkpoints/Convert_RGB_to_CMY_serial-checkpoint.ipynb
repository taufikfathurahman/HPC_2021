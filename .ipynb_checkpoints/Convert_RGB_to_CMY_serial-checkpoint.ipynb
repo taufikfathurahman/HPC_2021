{
 "cells": [
  {
   "cell_type": "code",
   "execution_count": 1,
   "metadata": {},
   "outputs": [],
   "source": [
    "import numpy as np\n",
    "import cv2\n",
    "import time"
   ]
  },
  {
   "cell_type": "code",
   "execution_count": 2,
   "metadata": {},
   "outputs": [],
   "source": [
    "class rgb2cmy:\n",
    "\n",
    "    def __init__(self, img):\n",
    "        self.img = img\n",
    "\n",
    "    def run(self):\n",
    "        height,width,channel = self.img.shape\n",
    "        img_cmy = np.zeros((height,width,3))\n",
    "        for i in np.arange(height):\n",
    "            for j in np.arange(width):\n",
    "                r = self.img.item(i,j,0)\n",
    "                g = self.img.item(i,j,1)\n",
    "                b = self.img.item(i,j,2)\n",
    "\n",
    "                # RGB to YCbCr and representing it in 255 \n",
    "                c = 1 - (r/255.)\n",
    "                m = 1 - (g/255.)\n",
    "                y = 1 - (b/255.)\n",
    "                \n",
    "                img_cmy.itemset((i,j,0),int(c*100))\n",
    "                img_cmy.itemset((i,j,1),int(m*100))\n",
    "                img_cmy.itemset((i,j,2),int(y*100))\n",
    "\n",
    "\n",
    "        cv2.imwrite('asset/img_cmy_serial.png', img_cmy)"
   ]
  },
  {
   "cell_type": "code",
   "execution_count": 3,
   "metadata": {},
   "outputs": [
    {
     "name": "stdout",
     "output_type": "stream",
     "text": [
      "95.87364935874939\n"
     ]
    }
   ],
   "source": [
    "img = cv2.imread('asset/img_rgb.jpg')\n",
    "\n",
    "start = time.time()\n",
    "\n",
    "rgb2cmy(img).run()\n",
    "\n",
    "end = time.time()\n",
    "\n",
    "print(end-start)"
   ]
  },
  {
   "cell_type": "code",
   "execution_count": null,
   "metadata": {},
   "outputs": [],
   "source": []
  }
 ],
 "metadata": {
  "kernelspec": {
   "display_name": "Python 3",
   "language": "python",
   "name": "python3"
  },
  "language_info": {
   "codemirror_mode": {
    "name": "ipython",
    "version": 3
   },
   "file_extension": ".py",
   "mimetype": "text/x-python",
   "name": "python",
   "nbconvert_exporter": "python",
   "pygments_lexer": "ipython3",
   "version": "3.8.3"
  }
 },
 "nbformat": 4,
 "nbformat_minor": 4
}
