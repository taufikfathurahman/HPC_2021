{
 "cells": [
  {
   "cell_type": "markdown",
   "metadata": {},
   "source": [
    "# Image Processing RGB to CMY - Thread"
   ]
  },
  {
   "cell_type": "markdown",
   "metadata": {},
   "source": [
    "Threading merupakan cara untuk melakukan konkurensi dalam mengeksekusi sebuah operasi. Modul ```Thread``` memungkinkan dapat mengeksekusi code program tanpa harus menunggu proses eksekusi code program sebelumnya selesai. Modul ```Thread``` akan memisahkan code tertentu dan mengeksekusinya di proses yang diciptakan sendiri."
   ]
  },
  {
   "cell_type": "code",
   "execution_count": 1,
   "metadata": {},
   "outputs": [],
   "source": [
    "import numpy as np\n",
    "import cv2\n",
    "from threading import Thread\n",
    "import time"
   ]
  },
  {
   "cell_type": "markdown",
   "metadata": {},
   "source": [
    "Dalam penggunaan ```Thread``` object dapat dilakukan dengan 2 cara berbeda, yaitu dengan meneruskan objek kedalam konstruktor, atau melakukan overriding method ```run()```."
   ]
  },
  {
   "cell_type": "code",
   "execution_count": 2,
   "metadata": {},
   "outputs": [],
   "source": [
    "class rgb2cmy(Thread):\n",
    "\n",
    "    def __init__(self, img):\n",
    "        Thread.__init__(self)\n",
    "        self.img = img\n",
    "\n",
    "    def run(self):\n",
    "        height,width,channel = self.img.shape\n",
    "        img_cmy = np.zeros((height,width,3))\n",
    "        for i in np.arange(height):\n",
    "            for j in np.arange(width):\n",
    "                r = self.img.item(i,j,0)\n",
    "                g = self.img.item(i,j,1)\n",
    "                b = self.img.item(i,j,2)\n",
    "\n",
    "                # RGB to YCbCr and representing it in 255 \n",
    "                c = 1 - (r/255.)\n",
    "                m = 1 - (g/255.)\n",
    "                y = 1 - (b/255.)\n",
    "                \n",
    "                img_cmy.itemset((i,j,0),int(c*100))\n",
    "                img_cmy.itemset((i,j,1),int(m*100))\n",
    "                img_cmy.itemset((i,j,2),int(y*100))\n",
    "\n",
    "\n",
    "        cv2.imwrite('asset/img_cmy.png', img_cmy)"
   ]
  },
  {
   "cell_type": "markdown",
   "metadata": {},
   "source": [
    "Setelah objek ```Thread``` dibuat, aktivitas harus dimulai dengan memanggil metode thread ```start()```. Setelah aktivitas ```start()``` dimulai, maka thread akan dianggap 'alive'. Selanjutnya untuk mematikan aktivitas 'alive', makan thread ```join()``` dipanggil."
   ]
  },
  {
   "cell_type": "code",
   "execution_count": 3,
   "metadata": {},
   "outputs": [
    {
     "name": "stdout",
     "output_type": "stream",
     "text": [
      "Time spent = 16.898951053619385\n"
     ]
    }
   ],
   "source": [
    "img = cv2.imread('asset/img_rgb.jpg')\n",
    "\n",
    "img_tocmy = rgb2cmy(img)\n",
    "\n",
    "start = time.time()\n",
    "\n",
    "img_tocmy.start()\n",
    "img_tocmy.join()\n",
    "\n",
    "end = time.time()\n",
    "\n",
    "print('Time spent =', end-start)"
   ]
  }
 ],
 "metadata": {
  "kernelspec": {
   "display_name": "Python 3",
   "language": "python",
   "name": "python3"
  },
  "language_info": {
   "codemirror_mode": {
    "name": "ipython",
    "version": 3
   },
   "file_extension": ".py",
   "mimetype": "text/x-python",
   "name": "python",
   "nbconvert_exporter": "python",
   "pygments_lexer": "ipython3",
   "version": "3.8.3"
  }
 },
 "nbformat": 4,
 "nbformat_minor": 4
}
