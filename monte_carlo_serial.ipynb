{
 "cells": [
  {
   "cell_type": "markdown",
   "metadata": {},
   "source": [
    "# Monte Carlo - Serial"
   ]
  },
  {
   "cell_type": "code",
   "execution_count": 1,
   "metadata": {},
   "outputs": [],
   "source": [
    "import random\n",
    "import time"
   ]
  },
  {
   "cell_type": "code",
   "execution_count": 2,
   "metadata": {},
   "outputs": [],
   "source": [
    "def monte_carlo(num_point):\n",
    "    circle_points = 0\n",
    "    square_points = 0\n",
    "    \n",
    "    for i in range(num_point):\n",
    "        x = random.uniform(-1, 1)\n",
    "        y = random.uniform(-1, 1)\n",
    "\n",
    "        if (x * x) + (y * y) <= 1:\n",
    "            circle_points += 1\n",
    "\n",
    "        square_points += 1\n",
    "\n",
    "        pi = 4 * circle_points / square_points\n",
    "        \n",
    "    return pi"
   ]
  },
  {
   "cell_type": "code",
   "execution_count": 3,
   "metadata": {},
   "outputs": [
    {
     "name": "stdout",
     "output_type": "stream",
     "text": [
      "Pi value = 3.14149224\n",
      "Time Spent: 71.90866422653198\n"
     ]
    }
   ],
   "source": [
    "num_point = 100000000\n",
    "t1 = time.time()\n",
    "print(\"Pi value =\", monte_carlo(num_point))\n",
    "print(\"Time Spent:\", time.time() - t1)"
   ]
  }
 ],
 "metadata": {
  "kernelspec": {
   "display_name": "Python 3",
   "language": "python",
   "name": "python3"
  },
  "language_info": {
   "codemirror_mode": {
    "name": "ipython",
    "version": 3
   },
   "file_extension": ".py",
   "mimetype": "text/x-python",
   "name": "python",
   "nbconvert_exporter": "python",
   "pygments_lexer": "ipython3",
   "version": "3.8.3"
  }
 },
 "nbformat": 4,
 "nbformat_minor": 4
}
