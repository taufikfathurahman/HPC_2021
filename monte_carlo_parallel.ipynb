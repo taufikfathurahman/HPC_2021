{
 "cells": [
  {
   "cell_type": "markdown",
   "metadata": {},
   "source": [
    "# Monte Carlo - Parallel"
   ]
  },
  {
   "cell_type": "markdown",
   "metadata": {},
   "source": [
    "Proses paralel akan menggunakan library ```Parallel Python```. Sehingga langkah utama yang dilakukan adalam memastikan bahwa sudah terdapat library ```Parallel Python``` pada perangkat yang digunakan. Proses instalasi dapat dilakukan dengan menggunakan pertintah ```pip install pp``` pada konsol, atau dengan install dari file ```pp-1.6.4.4``` yang telah disediakan dengan menjalankan file ```setup.py``` yang ada didalamnya. Cara menjalankan file ```setup.py``` = ```python setup.py install```"
   ]
  },
  {
   "cell_type": "code",
   "execution_count": 1,
   "metadata": {},
   "outputs": [],
   "source": [
    "import random\n",
    "import time\n",
    "import multiprocessing as mp \n",
    "import pp # Parallel Python"
   ]
  },
  {
   "cell_type": "markdown",
   "metadata": {},
   "source": [
    "Mendefinisikan fungsin ```monte_carlo``` untuk menentukan jumlah dan membuat koordinat acak, yang kemudian melakukan pemeriksaan dari koordinat yang telah dibuat berada di dalam atau di luar lingkaran. Untuk setiap koordinat yang berada di dalam lingkaran akan menambahkan jumlah percobaan untuk di kembalikan sebagai nilai  perhitungan ```pi```."
   ]
  },
  {
   "cell_type": "code",
   "execution_count": 2,
   "metadata": {},
   "outputs": [],
   "source": [
    "def monte_carlo(num_point):\n",
    "  count = 0\n",
    "  for i in range(num_point):\n",
    "    x = random.uniform(-1, 1)\n",
    "    y = random.uniform(-1, 1)\n",
    "\n",
    "    if (x * x) + (y * y) <= 1:\n",
    "      count = count + 1\n",
    "\n",
    "  return count"
   ]
  },
  {
   "cell_type": "markdown",
   "metadata": {},
   "source": [
    "Hal selanjutnya adalah menentukan jumlah proses, dapat disesuaikan dengan jumlah CPUs yang tersedia, atau dibawah itu sesuai dengan yang diinginkan. Selanjutnya nilai dari jumlah proses ini diteruskan untuk membuat ```parallel python server```. Setelah server terbentuk, selanjutnya adalah melakukan submit pekerjaan dari ```monte_carlo``` bersamaan dengan ```input args``` sebanyak jumlah percobaan. Dari hasil perhitungan ```job``` akan dapat dihitung nilai ```Pi``` dari jumlah total unit lingkaran * 4 dan dibagi dengan jumlah estimasi dan jumlah proses."
   ]
  },
  {
   "cell_type": "code",
   "execution_count": 3,
   "metadata": {},
   "outputs": [
    {
     "name": "stdout",
     "output_type": "stream",
     "text": [
      "Number of CPUs = 4\n",
      "Pi value = 3.14147905\n",
      "Time Spent: 64.38179969787598\n"
     ]
    }
   ],
   "source": [
    "num_processor = mp.cpu_count()\n",
    "print(\"Number of CPUs =\", num_processor)\n",
    "\n",
    "job_server = pp.Server(ncpus=num_processor)\n",
    "num_point = 100000000\n",
    "nbr_trials_per_process = [num_point] * num_processor\n",
    "jobs = []\n",
    "\n",
    "t1 = time.time()\n",
    "for input_args in nbr_trials_per_process:\n",
    "    job = job_server.submit(monte_carlo, (input_args,), (), (\"random\",))\n",
    "    jobs.append(job)\n",
    "nbr_in_unit_circles = [job() for job in jobs]\n",
    "\n",
    "\n",
    "print(\"Pi value =\", sum(nbr_in_unit_circles) * 4 / num_point / num_processor)\n",
    "print(\"Time Spent:\", time.time() - t1)"
   ]
  },
  {
   "cell_type": "markdown",
   "metadata": {},
   "source": [
    "Jika dibandingkan dengan proses yang dilakukan secara serial, proses paralel memberikan waktu yang lebih cepat sekitar 6-7 detik."
   ]
  }
 ],
 "metadata": {
  "kernelspec": {
   "display_name": "Python 3",
   "language": "python",
   "name": "python3"
  },
  "language_info": {
   "codemirror_mode": {
    "name": "ipython",
    "version": 3
   },
   "file_extension": ".py",
   "mimetype": "text/x-python",
   "name": "python",
   "nbconvert_exporter": "python",
   "pygments_lexer": "ipython3",
   "version": "3.8.3"
  }
 },
 "nbformat": 4,
 "nbformat_minor": 4
}
