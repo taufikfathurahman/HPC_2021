{
 "cells": [
  {
   "cell_type": "markdown",
   "metadata": {},
   "source": [
    "# Image Processing RGB to HSV - Thread"
   ]
  },
  {
   "cell_type": "markdown",
   "metadata": {},
   "source": [
    "Threading merupakan cara untuk melakukan konkurensi dalam mengeksekusi sebuah operasi. Modul ```Thread``` memungkinkan dapat mengeksekusi code program tanpa harus menunggu proses eksekusi code program sebelumnya selesai. Modul ```Thread``` akan memisahkan code tertentu dan mengeksekusinya di proses yang diciptakan sendiri."
   ]
  },
  {
   "cell_type": "code",
   "execution_count": 1,
   "metadata": {},
   "outputs": [],
   "source": [
    "import numpy as np\n",
    "import cv2\n",
    "from threading import Thread\n",
    "import time"
   ]
  },
  {
   "cell_type": "markdown",
   "metadata": {},
   "source": [
    "Dalam penggunaan ```Thread``` object dapat dilakukan dengan 2 cara berbeda, yaitu dengan meneruskan objek kedalam konstruktor, atau melakukan overriding method ```run()```."
   ]
  },
  {
   "cell_type": "code",
   "execution_count": 2,
   "metadata": {},
   "outputs": [],
   "source": [
    "class rgb2hsv(Thread):\n",
    "\n",
    "    def __init__(self, img):\n",
    "        Thread.__init__(self)\n",
    "        self.img = img\n",
    "\n",
    "    def run(self):\n",
    "        height,width,channel = self.img.shape\n",
    "        img_hsv = np.zeros((height,width,3))\n",
    "        for i in np.arange(height):\n",
    "            for j in np.arange(width):\n",
    "                r = self.img.item(i,j,0)\n",
    "                g = self.img.item(i,j,1)\n",
    "                b = self.img.item(i,j,2)\n",
    "\n",
    "                r_ = r/255.\n",
    "                g_ = g/255.\n",
    "                b_ = b/255.\n",
    "                Cmax = max(r_,g_,b_)\n",
    "                Cmin = min(r_,g_,b_)\n",
    "                delta = Cmax-Cmin\n",
    "\n",
    "                # Hue Calculation\n",
    "                if delta == 0:\n",
    "                    H = 0\n",
    "                elif Cmax == r_ :\n",
    "                    H = 60 * (((g_ - b_)/delta) % 6)\n",
    "                elif Cmax == g_:\n",
    "                    H = 60 * (((b_ - r_)/delta) + 2)\n",
    "                elif Cmax == b_:\n",
    "                    H = 60 * (((r_ - g_)/delta) + 4)\n",
    "\n",
    "                # Saturation Calculation\n",
    "                if Cmax == 0:\n",
    "                    S = 0\n",
    "                else :\n",
    "                    S = delta / Cmax\n",
    "                \n",
    "                # Value Calculation\n",
    "                V = Cmax \n",
    "                \n",
    "                # Set H,S,and V to image\n",
    "                img_hsv.itemset((i,j,0),int(H))\n",
    "                img_hsv.itemset((i,j,1),int(S))\n",
    "                img_hsv.itemset((i,j,2),int(V))\n",
    "\n",
    "        cv2.imwrite('asset/img_hsv.png', img_hsv)"
   ]
  },
  {
   "cell_type": "markdown",
   "metadata": {},
   "source": [
    "Setelah objek ```Thread``` dibuat, aktivitas harus dimulai dengan memanggil metode thread ```start()```. Setelah aktivitas ```start()``` dimulai, maka thread akan dianggap 'alive'. Selanjutnya untuk mematikan aktivitas 'alive', makan thread ```join()``` dipanggil."
   ]
  },
  {
   "cell_type": "code",
   "execution_count": 3,
   "metadata": {},
   "outputs": [
    {
     "name": "stdout",
     "output_type": "stream",
     "text": [
      "Time spent = 22.182496547698975\n"
     ]
    }
   ],
   "source": [
    "img = cv2.imread('asset/img_rgb.jpg')\n",
    "\n",
    "img_tohsv = rgb2hsv(img)\n",
    "\n",
    "start = time.time()\n",
    "\n",
    "img_tohsv.start()\n",
    "img_tohsv.join()\n",
    "\n",
    "end = time.time()\n",
    "\n",
    "print('Time spent =', end-start)"
   ]
  }
 ],
 "metadata": {
  "kernelspec": {
   "display_name": "Python 3",
   "language": "python",
   "name": "python3"
  },
  "language_info": {
   "codemirror_mode": {
    "name": "ipython",
    "version": 3
   },
   "file_extension": ".py",
   "mimetype": "text/x-python",
   "name": "python",
   "nbconvert_exporter": "python",
   "pygments_lexer": "ipython3",
   "version": "3.8.3"
  }
 },
 "nbformat": 4,
 "nbformat_minor": 4
}
